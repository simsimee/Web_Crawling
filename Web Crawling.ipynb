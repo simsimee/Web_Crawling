{
 "cells": [
  {
   "cell_type": "code",
   "execution_count": 2,
   "metadata": {},
   "outputs": [],
   "source": [
    "import requests\n",
    "from bs4 import BeautifulSoup"
   ]
  },
  {
   "cell_type": "markdown",
   "metadata": {},
   "source": [
    "## News title Crawling"
   ]
  },
  {
   "cell_type": "code",
   "execution_count": 14,
   "metadata": {},
   "outputs": [],
   "source": [
    "def News_title(url):\n",
    "    resp = requests.get(url)\n",
    "    soup = BeautifulSoup(resp.text)\n",
    "    title_tag = soup.select_one('h4.title')\n",
    "    if title_tag:\n",
    "        return title_tag.get_text()\n",
    "    return\"\""
   ]
  },
  {
   "cell_type": "code",
   "execution_count": 15,
   "metadata": {},
   "outputs": [
    {
     "data": {
      "text/plain": [
       "\"레알, '최악의 영입생' 아자르 처분한다...'1,000억 가격표'\""
      ]
     },
     "execution_count": 15,
     "metadata": {},
     "output_type": "execute_result"
    }
   ],
   "source": [
    "News_title('https://sports.news.naver.com/news.nhn?oid=413&aid=0000112318')"
   ]
  },
  {
   "cell_type": "code",
   "execution_count": 17,
   "metadata": {},
   "outputs": [
    {
     "data": {
      "text/plain": [
       "'베일, 정신적인 문제인가…\"스프린트도 못 하던데\"'"
      ]
     },
     "execution_count": 17,
     "metadata": {},
     "output_type": "execute_result"
    }
   ],
   "source": [
    "News_title('https://sports.news.naver.com/news.nhn?oid=477&aid=0000281862')"
   ]
  },
  {
   "cell_type": "markdown",
   "metadata": {},
   "source": [
    "## News text Crawling"
   ]
  },
  {
   "cell_type": "code",
   "execution_count": 20,
   "metadata": {},
   "outputs": [],
   "source": [
    "def News_text(url):\n",
    "    resp = requests.get(url)  \n",
    "    soup = BeautifulSoup(resp.text)\n",
    "    content = ''\n",
    "    for p in soup.select('div#newsEndContents'):\n",
    "        content += p.get_text()\n",
    "    return content"
   ]
  },
  {
   "cell_type": "code",
   "execution_count": 21,
   "metadata": {},
   "outputs": [
    {
     "data": {
      "text/plain": [
       "'\\n[인터풋볼]\\xa0박지원\\xa0기자=\\xa0레알 마드리드의 에당 아자르(30)를 결국 매각 할 준비를 한다. 영국 \\'컷옵사이드\\'는 19일(한국시간) \"아자르는 2019년 첼시에서 넘어온 이후 별다른 활약이 없었다. 결국 레알은 영향력이 전혀 없는 아자르를 판매하기로 했다\"라고 보도했다.아자르는 2012년 프랑스 리그앙을 떠나 첼시로 합류했다. 아자르는 첼시 이적 후 352경기 110골 92도움이라는 기록과 함께 프리미어리그(EPL) 최고의 선수로 성장했다. 첼시에서 7년이란 시간을 보낸 아자르는 도전을 외쳤고, 레알은 아자르를 데려오기 위해 1억 5,000만 유로(약 2,004억 원)를 투자했다.첼시와의 계약 기간이 1년밖에 남지 않은 선수에게 2,000억이라는 거금을 투자한 레알이 지나친 금액을 투자한 것이 아니냐는 비판도 있었다. 그래도 대부분의 팬들이 아자르에게 큰 기대를 했었다. 하지만 아자르는 레알 역사상 최악의 이적생이 됐다.아자르는 이적 후 32경기에서 나서 3골 7도움이란 초라한 성적을 기록하고 있다. 2시즌 간 32경기 밖에 출전하지 못한 이유는 바로 부상 때문이다. 아자르는 그 짧은 기간에 9번이나 부상을 당했다. 발목, 햄스트링, 무릎, 근육 부상 등 부위도 다양했다. 작년 11월에는 코로나19 확진 판정까지 받았다.아자르의 몸값도 끝도 없이 추락하고 있다. 2019년 1억 5,000만 유로까지 치솟았던 아자르의 몸값은 현재 5,000만 유로(약 668억 원)까지 하락했다. 나이, 부상, 기량 모든 면을 감안했을 때 현재 아자르의 평가는 딱 평범한 수준이 되고 말았다.결국 레알은 아자르를 매각하기로 마음을 먹었다. 매체는 \"아자르에게 무슨 일이 일어 난건지 모르겠다. 레알 플로렌티노 페레즈 회장이 7,120만 파운드(약 1,069억 원)의 가격표를 붙여 당장 처분하고자 한다\"라고 밝혔다.이어 \"레알 입장에서는 합리적인 결정이라고 볼 수 있다. 그렇지 않으면 아자르는 계속해서 레알에서 안 좋은 경기력을 보일 것이다. 결국 몸값 역시 더 떨어지게 된다. 킬리안 음바페를 영입하기 위해 아자르를 매각할 것이다\"라고 덧붙였다.▶ [인터풋볼 인기 영상 보러 가기]Copyright ⓒ 인터풋볼. 무단전재 및 재배포 금지\\n기사제공 인터풋볼\\n'"
      ]
     },
     "execution_count": 21,
     "metadata": {},
     "output_type": "execute_result"
    }
   ],
   "source": [
    "News_text('https://sports.news.naver.com/news.nhn?oid=413&aid=0000112318')"
   ]
  },
  {
   "cell_type": "code",
   "execution_count": 22,
   "metadata": {},
   "outputs": [
    {
     "data": {
      "text/plain": [
       "'\\n▲ 가레스 베일[스포티비뉴스=이민재 기자] 가레스 베일(토트넘)이 출전 기회를 얻기 위해 더 많은 노력이 필요해 보인다.18일(이하 한국 시간) 영국 매체 \\'토크스포츠\\'에 의하면 토트넘 레전드인 글렌 호들이 베일의 현 상황을 분석했다. 그는 \"베일에게 충분한 기회가 주어지지 않아 실망스럽다. 그러나 그는 그 기회를 따내야 한다\"라고 말문을 열었다.이어 \"내가 보기에 그는 자신감이 없어 보인다. 그가 보여줬던 스프린트를 할 준비가 되지 않은 것 같다\"라며 \"정신적인 문제일 수도 있다. 그러나 이를 깨고 나와 토트넘에 힘을 보태야 한다\"라고 덧붙였다.또한 그는 \"이를 위해 경기장에 올라야 한다. 그러나 무리뉴 감독이 그에게 출전 시간을 주지 않고 있다\"라고 강조했다.최근 무리뉴 감독과 베일이 충돌했다는 현지 보도가 나왔다. 영국 매체 \\'데일리 메일\\'은 17일 \"무리뉴 감독의 인내심이 바닥나고 있다\"라고 보도했다.최근 토트넘 TV를 통해 담긴 대화 장면을 보면 무리뉴 감독이 \"여기에 남고 싶어? 아니면 레알 마드리드로 가서 축구 안 하고 싶어?\"라고 베일에게 이야기했다.베일은 올 시즌 12경기서 3골에 그치고 있고, 프리미어리그에서는 단 4경기만 소화하고 있다. 4경기 중 선발로 출전한 건 1경기뿐이었다. 베일은 올 시즌 1년 임대로 토트넘에 합류했다. 그러나 1년 더 연장할 가능성이 현재로선 적어 보인다. \\'더 타임스\\'는 \"베일이 전반기 동안 보여준 영향력이 부족하다. 토트넘이 다음 시즌에도 베일을 임대로 데려올 가능성이 적다\"라고 전했다.실제로 무리뉴 감독은 17일 셰필드 유나이티드와 경기를 앞두고 열린 기자회견에서 \"베일의 두 번째 시즌에 대해 논의한 적이 없다. 베일은 올 시즌까지 임대로 뛴다. 두 번째 시즌에 대해 이야기하지 않았다. 우리는 베일, 레알 마드리드, 토트넘과 합의해야 한다\"라고 언급했다.스포티비뉴스=이민재 기자제보>lmj@spotvnews.co.kr[영상]\\'손흥민 PL 공격포인트 100개 달성\\'[댓글] 손흥민은 월클인가?<저작권자 ⓒ SPOTV NEWS 무단전재 및 재배포 금지>\\n\\t\\t\\t\\t\\t\\t\\n\\t\\t\\t\\t\\t\\t\\n\\t\\t\\t\\t\\t\\t\\n\\t\\t\\t\\t\\t\\t\\n\\t\\t\\t\\t\\t\\t기사제공 스포티비뉴스\\n'"
      ]
     },
     "execution_count": 22,
     "metadata": {},
     "output_type": "execute_result"
    }
   ],
   "source": [
    "News_text('https://sports.news.naver.com/news.nhn?oid=477&aid=0000281862')"
   ]
  },
  {
   "cell_type": "code",
   "execution_count": null,
   "metadata": {},
   "outputs": [],
   "source": []
  }
 ],
 "metadata": {
  "kernelspec": {
   "display_name": "Python 3",
   "language": "python",
   "name": "python3"
  },
  "language_info": {
   "codemirror_mode": {
    "name": "ipython",
    "version": 3
   },
   "file_extension": ".py",
   "mimetype": "text/x-python",
   "name": "python",
   "nbconvert_exporter": "python",
   "pygments_lexer": "ipython3",
   "version": "3.8.5"
  }
 },
 "nbformat": 4,
 "nbformat_minor": 4
}
